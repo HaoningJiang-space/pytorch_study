{
 "cells": [
  {
   "cell_type": "markdown",
   "metadata": {},
   "source": [
    "Sqeeze/unsqueeze\n",
    "\n",
    "Transpose/t/permute\n",
    "\n",
    "Expand/repeat"
   ]
  },
  {
   "cell_type": "code",
   "execution_count": 4,
   "metadata": {},
   "outputs": [
    {
     "data": {
      "text/plain": [
       "torch.Size([4, 1, 28, 28])"
      ]
     },
     "execution_count": 4,
     "metadata": {},
     "output_type": "execute_result"
    }
   ],
   "source": [
    "import torch\n",
    "\n",
    "a = torch.rand(4,1,28,28)\n",
    "a.shape"
   ]
  },
  {
   "cell_type": "code",
   "execution_count": 6,
   "metadata": {},
   "outputs": [
    {
     "data": {
      "text/plain": [
       "tensor([[8.6335e-01, 2.1513e-01, 6.7275e-01,  ..., 4.3619e-04, 2.4974e-02,\n",
       "         8.4803e-01],\n",
       "        [2.7660e-01, 7.3089e-01, 7.1456e-01,  ..., 2.1206e-01, 5.3486e-01,\n",
       "         6.4780e-01],\n",
       "        [3.0365e-01, 2.2230e-01, 1.1408e-01,  ..., 7.1106e-01, 2.2030e-01,\n",
       "         5.9890e-01],\n",
       "        [9.5781e-01, 7.9946e-01, 7.1305e-01,  ..., 6.6892e-01, 3.6820e-01,\n",
       "         4.4156e-03]])"
      ]
     },
     "execution_count": 6,
     "metadata": {},
     "output_type": "execute_result"
    }
   ],
   "source": [
    "a.view(4,28*28)"
   ]
  },
  {
   "cell_type": "code",
   "execution_count": 8,
   "metadata": {},
   "outputs": [
    {
     "data": {
      "text/plain": [
       "torch.Size([4, 784])"
      ]
     },
     "execution_count": 8,
     "metadata": {},
     "output_type": "execute_result"
    }
   ],
   "source": [
    "a.view(4,28*28).shape"
   ]
  },
  {
   "cell_type": "code",
   "execution_count": 9,
   "metadata": {},
   "outputs": [
    {
     "data": {
      "text/plain": [
       "torch.Size([112, 28])"
      ]
     },
     "execution_count": 9,
     "metadata": {},
     "output_type": "execute_result"
    }
   ],
   "source": [
    "a.view(4*28,28).shape"
   ]
  },
  {
   "cell_type": "code",
   "execution_count": 10,
   "metadata": {},
   "outputs": [
    {
     "data": {
      "text/plain": [
       "torch.Size([4, 28, 28])"
      ]
     },
     "execution_count": 10,
     "metadata": {},
     "output_type": "execute_result"
    }
   ],
   "source": [
    "a.view(4*1,28,28).shape"
   ]
  },
  {
   "cell_type": "code",
   "execution_count": 13,
   "metadata": {},
   "outputs": [
    {
     "data": {
      "text/plain": [
       "tensor([[[[8.6335e-01],\n",
       "          [2.1513e-01],\n",
       "          [6.7275e-01],\n",
       "          ...,\n",
       "          [9.9471e-01],\n",
       "          [5.6424e-01],\n",
       "          [6.0487e-01]],\n",
       "\n",
       "         [[1.4513e-01],\n",
       "          [6.9708e-01],\n",
       "          [3.5901e-01],\n",
       "          ...,\n",
       "          [7.7749e-01],\n",
       "          [1.3483e-01],\n",
       "          [6.9550e-01]],\n",
       "\n",
       "         [[5.9468e-01],\n",
       "          [2.1338e-01],\n",
       "          [8.4743e-01],\n",
       "          ...,\n",
       "          [9.7982e-01],\n",
       "          [4.2639e-01],\n",
       "          [3.6060e-01]],\n",
       "\n",
       "         ...,\n",
       "\n",
       "         [[2.6207e-01],\n",
       "          [9.8198e-01],\n",
       "          [8.7013e-01],\n",
       "          ...,\n",
       "          [3.5850e-02],\n",
       "          [1.6851e-01],\n",
       "          [8.7526e-01]],\n",
       "\n",
       "         [[8.1966e-01],\n",
       "          [8.4495e-01],\n",
       "          [2.0692e-01],\n",
       "          ...,\n",
       "          [7.8300e-02],\n",
       "          [8.5157e-01],\n",
       "          [4.3493e-01]],\n",
       "\n",
       "         [[7.0008e-01],\n",
       "          [1.1920e-01],\n",
       "          [3.5035e-01],\n",
       "          ...,\n",
       "          [4.3619e-04],\n",
       "          [2.4974e-02],\n",
       "          [8.4803e-01]]],\n",
       "\n",
       "\n",
       "        [[[2.7660e-01],\n",
       "          [7.3089e-01],\n",
       "          [7.1456e-01],\n",
       "          ...,\n",
       "          [1.4254e-01],\n",
       "          [1.4071e-01],\n",
       "          [4.2512e-02]],\n",
       "\n",
       "         [[2.9265e-01],\n",
       "          [1.3881e-01],\n",
       "          [4.5012e-01],\n",
       "          ...,\n",
       "          [3.0507e-01],\n",
       "          [9.2475e-03],\n",
       "          [5.6410e-01]],\n",
       "\n",
       "         [[8.2380e-01],\n",
       "          [6.9964e-01],\n",
       "          [3.3349e-01],\n",
       "          ...,\n",
       "          [6.8736e-01],\n",
       "          [6.1344e-01],\n",
       "          [2.2443e-01]],\n",
       "\n",
       "         ...,\n",
       "\n",
       "         [[5.0391e-01],\n",
       "          [2.4216e-02],\n",
       "          [2.4487e-01],\n",
       "          ...,\n",
       "          [6.0788e-01],\n",
       "          [5.8065e-02],\n",
       "          [5.5375e-01]],\n",
       "\n",
       "         [[9.7955e-01],\n",
       "          [5.3378e-01],\n",
       "          [9.7468e-01],\n",
       "          ...,\n",
       "          [6.5153e-01],\n",
       "          [3.8626e-01],\n",
       "          [3.3307e-01]],\n",
       "\n",
       "         [[2.2312e-01],\n",
       "          [7.0648e-01],\n",
       "          [6.6055e-01],\n",
       "          ...,\n",
       "          [2.1206e-01],\n",
       "          [5.3486e-01],\n",
       "          [6.4780e-01]]],\n",
       "\n",
       "\n",
       "        [[[3.0365e-01],\n",
       "          [2.2230e-01],\n",
       "          [1.1408e-01],\n",
       "          ...,\n",
       "          [1.7718e-01],\n",
       "          [7.3736e-01],\n",
       "          [9.0709e-01]],\n",
       "\n",
       "         [[8.3494e-01],\n",
       "          [9.7571e-02],\n",
       "          [2.5487e-01],\n",
       "          ...,\n",
       "          [3.2732e-01],\n",
       "          [7.5520e-01],\n",
       "          [6.0585e-01]],\n",
       "\n",
       "         [[4.5829e-01],\n",
       "          [3.7541e-01],\n",
       "          [4.9338e-01],\n",
       "          ...,\n",
       "          [7.1224e-01],\n",
       "          [6.5103e-01],\n",
       "          [9.4021e-01]],\n",
       "\n",
       "         ...,\n",
       "\n",
       "         [[8.0135e-01],\n",
       "          [2.9516e-03],\n",
       "          [7.9110e-01],\n",
       "          ...,\n",
       "          [4.2256e-01],\n",
       "          [1.9009e-02],\n",
       "          [7.2224e-01]],\n",
       "\n",
       "         [[6.3311e-01],\n",
       "          [4.4541e-01],\n",
       "          [3.7630e-01],\n",
       "          ...,\n",
       "          [3.2048e-01],\n",
       "          [9.7090e-01],\n",
       "          [1.8238e-01]],\n",
       "\n",
       "         [[2.6052e-01],\n",
       "          [6.9779e-01],\n",
       "          [6.7594e-01],\n",
       "          ...,\n",
       "          [7.1106e-01],\n",
       "          [2.2030e-01],\n",
       "          [5.9890e-01]]],\n",
       "\n",
       "\n",
       "        [[[9.5781e-01],\n",
       "          [7.9946e-01],\n",
       "          [7.1305e-01],\n",
       "          ...,\n",
       "          [1.7581e-01],\n",
       "          [8.1364e-01],\n",
       "          [1.4778e-02]],\n",
       "\n",
       "         [[8.1006e-01],\n",
       "          [7.0926e-01],\n",
       "          [8.6715e-01],\n",
       "          ...,\n",
       "          [9.0659e-01],\n",
       "          [7.1550e-01],\n",
       "          [3.2157e-01]],\n",
       "\n",
       "         [[8.0289e-01],\n",
       "          [9.3389e-01],\n",
       "          [4.4945e-01],\n",
       "          ...,\n",
       "          [7.9034e-01],\n",
       "          [9.2602e-01],\n",
       "          [3.0190e-01]],\n",
       "\n",
       "         ...,\n",
       "\n",
       "         [[8.2145e-01],\n",
       "          [7.9527e-01],\n",
       "          [4.5532e-01],\n",
       "          ...,\n",
       "          [8.3560e-01],\n",
       "          [9.9062e-01],\n",
       "          [8.3616e-01]],\n",
       "\n",
       "         [[6.7350e-01],\n",
       "          [7.8242e-01],\n",
       "          [7.8416e-01],\n",
       "          ...,\n",
       "          [4.5746e-01],\n",
       "          [9.0113e-02],\n",
       "          [8.6358e-01]],\n",
       "\n",
       "         [[8.7212e-02],\n",
       "          [2.5304e-01],\n",
       "          [3.5671e-01],\n",
       "          ...,\n",
       "          [6.6892e-01],\n",
       "          [3.6820e-01],\n",
       "          [4.4156e-03]]]])"
      ]
     },
     "execution_count": 13,
     "metadata": {},
     "output_type": "execute_result"
    }
   ],
   "source": [
    "b = a.view(4,784)\n",
    "b.view(4,28,28,1) #Logic bug"
   ]
  },
  {
   "cell_type": "code",
   "execution_count": 16,
   "metadata": {},
   "outputs": [
    {
     "ename": "RuntimeError",
     "evalue": "shape '[4, 783]' is invalid for input of size 3136",
     "output_type": "error",
     "traceback": [
      "\u001b[1;31m---------------------------------------------------------------------------\u001b[0m",
      "\u001b[1;31mRuntimeError\u001b[0m                              Traceback (most recent call last)",
      "Cell \u001b[1;32mIn[16], line 1\u001b[0m\n\u001b[1;32m----> 1\u001b[0m \u001b[43ma\u001b[49m\u001b[38;5;241;43m.\u001b[39;49m\u001b[43mview\u001b[49m\u001b[43m(\u001b[49m\u001b[38;5;241;43m4\u001b[39;49m\u001b[43m,\u001b[49m\u001b[38;5;241;43m783\u001b[39;49m\u001b[43m)\u001b[49m\u001b[38;5;66;03m#Flexible but prone to corrupt\u001b[39;00m\n",
      "\u001b[1;31mRuntimeError\u001b[0m: shape '[4, 783]' is invalid for input of size 3136"
     ]
    }
   ],
   "source": [
    "a.view(4,783)#Flexible but prone to corrupt"
   ]
  },
  {
   "cell_type": "markdown",
   "metadata": {},
   "source": [
    "Squeeze vs unsqueeze"
   ]
  },
  {
   "cell_type": "code",
   "execution_count": 17,
   "metadata": {},
   "outputs": [
    {
     "data": {
      "text/plain": [
       "torch.Size([4, 1, 28, 28])"
      ]
     },
     "execution_count": 17,
     "metadata": {},
     "output_type": "execute_result"
    }
   ],
   "source": [
    "a.shape"
   ]
  },
  {
   "cell_type": "code",
   "execution_count": 18,
   "metadata": {},
   "outputs": [
    {
     "data": {
      "text/plain": [
       "torch.Size([1, 4, 1, 28, 28])"
      ]
     },
     "execution_count": 18,
     "metadata": {},
     "output_type": "execute_result"
    }
   ],
   "source": [
    "a.unsqueeze(0).shape"
   ]
  },
  {
   "cell_type": "code",
   "execution_count": 19,
   "metadata": {},
   "outputs": [
    {
     "data": {
      "text/plain": [
       "torch.Size([4, 1, 28, 28, 1])"
      ]
     },
     "execution_count": 19,
     "metadata": {},
     "output_type": "execute_result"
    }
   ],
   "source": [
    "a.unsqueeze(-1).shape"
   ]
  },
  {
   "cell_type": "code",
   "execution_count": 20,
   "metadata": {},
   "outputs": [
    {
     "data": {
      "text/plain": [
       "torch.Size([4, 1, 28, 28, 1])"
      ]
     },
     "execution_count": 20,
     "metadata": {},
     "output_type": "execute_result"
    }
   ],
   "source": [
    "a.unsqueeze(4).shape"
   ]
  },
  {
   "cell_type": "code",
   "execution_count": 21,
   "metadata": {},
   "outputs": [
    {
     "data": {
      "text/plain": [
       "torch.Size([4, 1, 1, 28, 28])"
      ]
     },
     "execution_count": 21,
     "metadata": {},
     "output_type": "execute_result"
    }
   ],
   "source": [
    "a.unsqueeze(-4).shape"
   ]
  },
  {
   "cell_type": "code",
   "execution_count": 22,
   "metadata": {},
   "outputs": [
    {
     "data": {
      "text/plain": [
       "torch.Size([1, 4, 1, 28, 28])"
      ]
     },
     "execution_count": 22,
     "metadata": {},
     "output_type": "execute_result"
    }
   ],
   "source": [
    "a.unsqueeze(-5).shape"
   ]
  },
  {
   "cell_type": "code",
   "execution_count": 23,
   "metadata": {},
   "outputs": [
    {
     "ename": "IndexError",
     "evalue": "Dimension out of range (expected to be in range of [-5, 4], but got 5)",
     "output_type": "error",
     "traceback": [
      "\u001b[1;31m---------------------------------------------------------------------------\u001b[0m",
      "\u001b[1;31mIndexError\u001b[0m                                Traceback (most recent call last)",
      "Cell \u001b[1;32mIn[23], line 1\u001b[0m\n\u001b[1;32m----> 1\u001b[0m \u001b[43ma\u001b[49m\u001b[38;5;241;43m.\u001b[39;49m\u001b[43munsqueeze\u001b[49m\u001b[43m(\u001b[49m\u001b[38;5;241;43m5\u001b[39;49m\u001b[43m)\u001b[49m\u001b[38;5;241m.\u001b[39mshape\n",
      "\u001b[1;31mIndexError\u001b[0m: Dimension out of range (expected to be in range of [-5, 4], but got 5)"
     ]
    }
   ],
   "source": [
    "a.unsqueeze(5).shape"
   ]
  },
  {
   "cell_type": "code",
   "execution_count": 27,
   "metadata": {},
   "outputs": [
    {
     "name": "stdout",
     "output_type": "stream",
     "text": [
      "torch.Size([2])\n",
      "torch.Size([2, 1])\n"
     ]
    },
    {
     "data": {
      "text/plain": [
       "tensor([[1.2000],\n",
       "        [2.3000]])"
      ]
     },
     "execution_count": 27,
     "metadata": {},
     "output_type": "execute_result"
    }
   ],
   "source": [
    "a = torch.tensor([1.2,2.3])\n",
    "print(a.shape)\n",
    "print(a.unsqueeze(-1).shape)\n",
    "a.unsqueeze(-1)\n"
   ]
  },
  {
   "cell_type": "code",
   "execution_count": 30,
   "metadata": {},
   "outputs": [
    {
     "name": "stdout",
     "output_type": "stream",
     "text": [
      "torch.Size([1, 2])\n"
     ]
    },
    {
     "data": {
      "text/plain": [
       "tensor([[1.2000, 2.3000]])"
      ]
     },
     "execution_count": 30,
     "metadata": {},
     "output_type": "execute_result"
    }
   ],
   "source": [
    "print(a.unsqueeze(0).shape)\n",
    "a.unsqueeze(0)"
   ]
  },
  {
   "cell_type": "code",
   "execution_count": 33,
   "metadata": {},
   "outputs": [
    {
     "name": "stdout",
     "output_type": "stream",
     "text": [
      "torch.Size([32, 1])\n",
      "torch.Size([32, 1, 1])\n"
     ]
    },
    {
     "data": {
      "text/plain": [
       "torch.Size([1, 32, 1, 1])"
      ]
     },
     "execution_count": 33,
     "metadata": {},
     "output_type": "execute_result"
    }
   ],
   "source": [
    "b = torch.rand(32)\n",
    "print(b.unsqueeze(1).shape)\n",
    "print(b.unsqueeze(1).unsqueeze(2).shape)\n",
    "f = torch.rand(4,32,14,14)\n",
    "b = b.unsqueeze(1).unsqueeze(2).unsqueeze(0)\n",
    "b.shape"
   ]
  },
  {
   "cell_type": "code",
   "execution_count": 34,
   "metadata": {},
   "outputs": [
    {
     "data": {
      "text/plain": [
       "torch.Size([1, 32, 1, 1])"
      ]
     },
     "execution_count": 34,
     "metadata": {},
     "output_type": "execute_result"
    }
   ],
   "source": [
    "b.shape"
   ]
  },
  {
   "cell_type": "code",
   "execution_count": 35,
   "metadata": {},
   "outputs": [
    {
     "data": {
      "text/plain": [
       "torch.Size([32])"
      ]
     },
     "execution_count": 35,
     "metadata": {},
     "output_type": "execute_result"
    }
   ],
   "source": [
    "b.squeeze().shape"
   ]
  },
  {
   "cell_type": "code",
   "execution_count": 36,
   "metadata": {},
   "outputs": [
    {
     "data": {
      "text/plain": [
       "torch.Size([32, 1, 1])"
      ]
     },
     "execution_count": 36,
     "metadata": {},
     "output_type": "execute_result"
    }
   ],
   "source": [
    "b.squeeze(0).shape"
   ]
  },
  {
   "cell_type": "code",
   "execution_count": 37,
   "metadata": {},
   "outputs": [
    {
     "data": {
      "text/plain": [
       "torch.Size([1, 32, 1])"
      ]
     },
     "execution_count": 37,
     "metadata": {},
     "output_type": "execute_result"
    }
   ],
   "source": [
    "b.squeeze(-1).shape"
   ]
  },
  {
   "cell_type": "code",
   "execution_count": 38,
   "metadata": {},
   "outputs": [
    {
     "data": {
      "text/plain": [
       "torch.Size([1, 32, 1, 1])"
      ]
     },
     "execution_count": 38,
     "metadata": {},
     "output_type": "execute_result"
    }
   ],
   "source": [
    "b.squeeze(1).shape"
   ]
  },
  {
   "cell_type": "code",
   "execution_count": 39,
   "metadata": {},
   "outputs": [
    {
     "data": {
      "text/plain": [
       "torch.Size([32, 1, 1])"
      ]
     },
     "execution_count": 39,
     "metadata": {},
     "output_type": "execute_result"
    }
   ],
   "source": [
    "b.squeeze(-4).shape"
   ]
  },
  {
   "cell_type": "markdown",
   "metadata": {},
   "source": [
    "Expand/repeat\n",
    "\n",
    "\n",
    "Expand:broadcasting\n",
    "\n",
    "Repeat:memory copied"
   ]
  },
  {
   "cell_type": "code",
   "execution_count": 41,
   "metadata": {},
   "outputs": [
    {
     "data": {
      "text/plain": [
       "torch.Size([1, 32, 1, 1])"
      ]
     },
     "execution_count": 41,
     "metadata": {},
     "output_type": "execute_result"
    }
   ],
   "source": [
    "a = torch.rand(4,32,14,14)\n",
    "b.shape"
   ]
  },
  {
   "cell_type": "code",
   "execution_count": 42,
   "metadata": {},
   "outputs": [
    {
     "data": {
      "text/plain": [
       "torch.Size([4, 32, 14, 14])"
      ]
     },
     "execution_count": 42,
     "metadata": {},
     "output_type": "execute_result"
    }
   ],
   "source": [
    "b.expand(4,32,14,14).shape"
   ]
  },
  {
   "cell_type": "code",
   "execution_count": 44,
   "metadata": {},
   "outputs": [
    {
     "data": {
      "text/plain": [
       "torch.Size([1, 32, 1, 1])"
      ]
     },
     "execution_count": 44,
     "metadata": {},
     "output_type": "execute_result"
    }
   ],
   "source": [
    "b.expand(-1,32,-1,-1).shape # -1 means do not change 这是因为-1是一个特殊的值，表示不改变这个维度的大小"
   ]
  },
  {
   "cell_type": "code",
   "execution_count": 47,
   "metadata": {},
   "outputs": [
    {
     "data": {
      "text/plain": [
       "torch.Size([1, 32, 1, -4])"
      ]
     },
     "execution_count": 47,
     "metadata": {},
     "output_type": "execute_result"
    }
   ],
   "source": [
    "b.expand(-1,32,1,-4).shape"
   ]
  },
  {
   "cell_type": "code",
   "execution_count": 48,
   "metadata": {},
   "outputs": [
    {
     "data": {
      "text/plain": [
       "torch.Size([1, 32, 1, 1])"
      ]
     },
     "execution_count": 48,
     "metadata": {},
     "output_type": "execute_result"
    }
   ],
   "source": [
    "b.shape"
   ]
  },
  {
   "cell_type": "code",
   "execution_count": 49,
   "metadata": {},
   "outputs": [
    {
     "data": {
      "text/plain": [
       "torch.Size([4, 1024, 1, 1])"
      ]
     },
     "execution_count": 49,
     "metadata": {},
     "output_type": "execute_result"
    }
   ],
   "source": [
    "b.repeat(4,32,1,1).shape"
   ]
  },
  {
   "cell_type": "code",
   "execution_count": 50,
   "metadata": {},
   "outputs": [
    {
     "data": {
      "text/plain": [
       "torch.Size([4, 32, 1, 1])"
      ]
     },
     "execution_count": 50,
     "metadata": {},
     "output_type": "execute_result"
    }
   ],
   "source": [
    "b.repeat(4,1,1,1).shape"
   ]
  },
  {
   "cell_type": "code",
   "execution_count": 51,
   "metadata": {},
   "outputs": [
    {
     "data": {
      "text/plain": [
       "torch.Size([4, 32, 14, 14])"
      ]
     },
     "execution_count": 51,
     "metadata": {},
     "output_type": "execute_result"
    }
   ],
   "source": [
    "b.repeat(4,1,14,14).shape"
   ]
  },
  {
   "cell_type": "code",
   "execution_count": 53,
   "metadata": {},
   "outputs": [
    {
     "ename": "RuntimeError",
     "evalue": "t() expects a tensor with <= 2 dimensions, but self is 4D",
     "output_type": "error",
     "traceback": [
      "\u001b[1;31m---------------------------------------------------------------------------\u001b[0m",
      "\u001b[1;31mRuntimeError\u001b[0m                              Traceback (most recent call last)",
      "Cell \u001b[1;32mIn[53], line 1\u001b[0m\n\u001b[1;32m----> 1\u001b[0m \u001b[43mb\u001b[49m\u001b[38;5;241;43m.\u001b[39;49m\u001b[43mt\u001b[49m\u001b[43m(\u001b[49m\u001b[43m)\u001b[49m\n",
      "\u001b[1;31mRuntimeError\u001b[0m: t() expects a tensor with <= 2 dimensions, but self is 4D"
     ]
    }
   ],
   "source": [
    "b.t()"
   ]
  },
  {
   "cell_type": "code",
   "execution_count": 56,
   "metadata": {},
   "outputs": [
    {
     "name": "stdout",
     "output_type": "stream",
     "text": [
      "tensor([[0.3731, 0.0927, 0.9625],\n",
      "        [0.5375, 0.5342, 0.7383],\n",
      "        [0.1962, 0.9843, 0.8771],\n",
      "        [0.9217, 0.2197, 0.6863]])\n"
     ]
    },
    {
     "data": {
      "text/plain": [
       "torch.Size([4, 3])"
      ]
     },
     "execution_count": 56,
     "metadata": {},
     "output_type": "execute_result"
    }
   ],
   "source": [
    "a = torch.rand(3,4)\n",
    "print(a.t())\n",
    "a.t().shape\n"
   ]
  },
  {
   "cell_type": "code",
   "execution_count": 58,
   "metadata": {},
   "outputs": [
    {
     "data": {
      "text/plain": [
       "torch.Size([4, 32, 32, 3])"
      ]
     },
     "execution_count": 58,
     "metadata": {},
     "output_type": "execute_result"
    }
   ],
   "source": [
    "a = torch.rand(4,3,32,32)\n",
    "a.transpose(1,3).shape"
   ]
  },
  {
   "cell_type": "code",
   "execution_count": 60,
   "metadata": {},
   "outputs": [
    {
     "data": {
      "text/plain": [
       "torch.Size([4, 32, 28, 3])"
      ]
     },
     "execution_count": 60,
     "metadata": {},
     "output_type": "execute_result"
    }
   ],
   "source": [
    "b = torch.rand(4,3,28,32)\n",
    "\n",
    "b.transpose(1,3).shape"
   ]
  },
  {
   "cell_type": "code",
   "execution_count": 61,
   "metadata": {},
   "outputs": [
    {
     "data": {
      "text/plain": [
       "torch.Size([4, 28, 32, 3])"
      ]
     },
     "execution_count": 61,
     "metadata": {},
     "output_type": "execute_result"
    }
   ],
   "source": [
    "b.transpose(1,3).transpose(1,2).shape"
   ]
  },
  {
   "cell_type": "code",
   "execution_count": 62,
   "metadata": {},
   "outputs": [
    {
     "data": {
      "text/plain": [
       "torch.Size([4, 28, 32, 3])"
      ]
     },
     "execution_count": 62,
     "metadata": {},
     "output_type": "execute_result"
    }
   ],
   "source": [
    "b.permute(0,2,3,1).shape"
   ]
  }
 ],
 "metadata": {
  "kernelspec": {
   "display_name": "pycell",
   "language": "python",
   "name": "python3"
  },
  "language_info": {
   "codemirror_mode": {
    "name": "ipython",
    "version": 3
   },
   "file_extension": ".py",
   "mimetype": "text/x-python",
   "name": "python",
   "nbconvert_exporter": "python",
   "pygments_lexer": "ipython3",
   "version": "3.11.5"
  }
 },
 "nbformat": 4,
 "nbformat_minor": 2
}
