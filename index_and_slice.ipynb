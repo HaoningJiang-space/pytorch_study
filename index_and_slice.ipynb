{
 "cells": [
  {
   "cell_type": "markdown",
   "metadata": {},
   "source": [
    "indexing"
   ]
  },
  {
   "cell_type": "code",
   "execution_count": 2,
   "metadata": {},
   "outputs": [
    {
     "data": {
      "text/plain": [
       "tensor([[[[0.9927, 0.3406, 0.0731,  ..., 0.7586, 0.4957, 0.1565],\n",
       "          [0.4106, 0.3337, 0.1249,  ..., 0.3153, 0.5953, 0.7690],\n",
       "          [0.2774, 0.6450, 0.8585,  ..., 0.4880, 0.6455, 0.7289],\n",
       "          ...,\n",
       "          [0.5964, 0.1655, 0.5616,  ..., 0.9649, 0.3921, 0.2171],\n",
       "          [0.6823, 0.9518, 0.0218,  ..., 0.0734, 0.7105, 0.0489],\n",
       "          [0.1449, 0.6195, 0.6422,  ..., 0.8546, 0.8082, 0.7061]],\n",
       "\n",
       "         [[0.5813, 0.9426, 0.1350,  ..., 0.1620, 0.2444, 0.4773],\n",
       "          [0.5899, 0.0229, 0.8148,  ..., 0.3824, 0.8823, 0.4939],\n",
       "          [0.6159, 0.1237, 0.0712,  ..., 0.6144, 0.6846, 0.4361],\n",
       "          ...,\n",
       "          [0.7996, 0.0960, 0.5238,  ..., 0.3947, 0.4236, 0.6397],\n",
       "          [0.7720, 0.9198, 0.2731,  ..., 0.3201, 0.8555, 0.2444],\n",
       "          [0.1587, 0.8143, 0.1941,  ..., 0.1623, 0.5362, 0.6875]],\n",
       "\n",
       "         [[0.5952, 0.1398, 0.4817,  ..., 0.8703, 0.9591, 0.3281],\n",
       "          [0.3220, 0.6353, 0.6695,  ..., 0.5856, 0.3809, 0.5560],\n",
       "          [0.0250, 0.5016, 0.0281,  ..., 0.2739, 0.9540, 0.8350],\n",
       "          ...,\n",
       "          [0.3251, 0.3419, 0.5509,  ..., 0.2443, 0.8167, 0.8563],\n",
       "          [0.4785, 0.4453, 0.4386,  ..., 0.1250, 0.0988, 0.7151],\n",
       "          [0.0088, 0.0603, 0.3570,  ..., 0.5741, 0.5107, 0.5525]]],\n",
       "\n",
       "\n",
       "        [[[0.2692, 0.4341, 0.1251,  ..., 0.9691, 0.1718, 0.5708],\n",
       "          [0.4693, 0.4809, 0.8699,  ..., 0.0311, 0.5040, 0.3031],\n",
       "          [0.2884, 0.2055, 0.3811,  ..., 0.1403, 0.6598, 0.6703],\n",
       "          ...,\n",
       "          [0.0442, 0.9731, 0.5242,  ..., 0.5614, 0.0428, 0.4511],\n",
       "          [0.2374, 0.9772, 0.3422,  ..., 0.4800, 0.6067, 0.3285],\n",
       "          [0.0313, 0.3018, 0.2240,  ..., 0.2671, 0.7988, 0.8941]],\n",
       "\n",
       "         [[0.1643, 0.5100, 0.6685,  ..., 0.3327, 0.8586, 0.3307],\n",
       "          [0.4054, 0.2242, 0.8567,  ..., 0.2724, 0.2494, 0.6922],\n",
       "          [0.0515, 0.3743, 0.9706,  ..., 0.2869, 0.6055, 0.0172],\n",
       "          ...,\n",
       "          [0.0354, 0.2696, 0.4120,  ..., 0.9604, 0.5979, 0.7836],\n",
       "          [0.3344, 0.4904, 0.4940,  ..., 0.3471, 0.0015, 0.5094],\n",
       "          [0.2580, 0.1437, 0.0312,  ..., 0.8259, 0.9756, 0.1181]],\n",
       "\n",
       "         [[0.1876, 0.3807, 0.0765,  ..., 0.1476, 0.2386, 0.9583],\n",
       "          [0.5907, 0.8386, 0.8321,  ..., 0.0059, 0.4818, 0.1397],\n",
       "          [0.6560, 0.8421, 0.3330,  ..., 0.2672, 0.8878, 0.8532],\n",
       "          ...,\n",
       "          [0.8732, 0.0384, 0.9580,  ..., 0.9184, 0.8306, 0.5267],\n",
       "          [0.3450, 0.7162, 0.4612,  ..., 0.2423, 0.5824, 0.6838],\n",
       "          [0.5274, 0.9580, 0.0043,  ..., 0.3365, 0.7630, 0.0573]]],\n",
       "\n",
       "\n",
       "        [[[0.1747, 0.2535, 0.2852,  ..., 0.4291, 0.8557, 0.7912],\n",
       "          [0.1485, 0.4412, 0.7073,  ..., 0.7391, 0.2414, 0.6064],\n",
       "          [0.0722, 0.5129, 0.5038,  ..., 0.4810, 0.5082, 0.3159],\n",
       "          ...,\n",
       "          [0.4611, 0.9935, 0.1001,  ..., 0.8183, 0.1894, 0.0148],\n",
       "          [0.6494, 0.6947, 0.9929,  ..., 0.5432, 0.6728, 0.8392],\n",
       "          [0.2469, 0.3678, 0.1476,  ..., 0.3748, 0.7740, 0.1934]],\n",
       "\n",
       "         [[0.1362, 0.1226, 0.8995,  ..., 0.7401, 0.5795, 0.5941],\n",
       "          [0.1575, 0.5268, 0.2258,  ..., 0.0139, 0.4882, 0.0565],\n",
       "          [0.6681, 0.0991, 0.5904,  ..., 0.0715, 0.0790, 0.3174],\n",
       "          ...,\n",
       "          [0.9707, 0.7587, 0.2026,  ..., 0.2510, 0.9369, 0.6915],\n",
       "          [0.1477, 0.2401, 0.2762,  ..., 0.7107, 0.4050, 0.3423],\n",
       "          [0.7441, 0.8417, 0.8990,  ..., 0.3711, 0.6825, 0.3387]],\n",
       "\n",
       "         [[0.1882, 0.3838, 0.1936,  ..., 0.9223, 0.0447, 0.3745],\n",
       "          [0.3650, 0.3612, 0.5942,  ..., 0.7381, 0.7483, 0.6895],\n",
       "          [0.5901, 0.4159, 0.7782,  ..., 0.8721, 0.7607, 0.7443],\n",
       "          ...,\n",
       "          [0.1682, 0.5366, 0.0274,  ..., 0.6532, 0.3572, 0.9122],\n",
       "          [0.1405, 0.7315, 0.7202,  ..., 0.1879, 0.1947, 0.9072],\n",
       "          [0.3855, 0.0114, 0.1865,  ..., 0.1738, 0.3036, 0.0696]]],\n",
       "\n",
       "\n",
       "        [[[0.7235, 0.7380, 0.9145,  ..., 0.5033, 0.3666, 0.1626],\n",
       "          [0.2038, 0.6107, 0.1624,  ..., 0.3138, 0.8422, 0.1771],\n",
       "          [0.4986, 0.9754, 0.2008,  ..., 0.9592, 0.5376, 0.1686],\n",
       "          ...,\n",
       "          [0.7820, 0.1289, 0.6109,  ..., 0.6761, 0.3528, 0.8883],\n",
       "          [0.0902, 0.4415, 0.9480,  ..., 0.0613, 0.1843, 0.0783],\n",
       "          [0.0715, 0.2734, 0.0586,  ..., 0.4593, 0.3321, 0.0956]],\n",
       "\n",
       "         [[0.8761, 0.8208, 0.4302,  ..., 0.5285, 0.3199, 0.0433],\n",
       "          [0.3583, 0.9840, 0.7282,  ..., 0.0796, 0.9371, 0.2861],\n",
       "          [0.1574, 0.6371, 0.2277,  ..., 0.8785, 0.9717, 0.5986],\n",
       "          ...,\n",
       "          [0.8717, 0.5246, 0.9414,  ..., 0.9176, 0.9187, 0.9412],\n",
       "          [0.8434, 0.4742, 0.0190,  ..., 0.3454, 0.2414, 0.5869],\n",
       "          [0.3780, 0.9523, 0.0479,  ..., 0.3399, 0.5692, 0.5140]],\n",
       "\n",
       "         [[0.7717, 0.7588, 0.9335,  ..., 0.9313, 0.7408, 0.7715],\n",
       "          [0.7159, 0.6914, 0.4849,  ..., 0.7189, 0.7528, 0.2365],\n",
       "          [0.9528, 0.9183, 0.9627,  ..., 0.3633, 0.0582, 0.6879],\n",
       "          ...,\n",
       "          [0.8285, 0.2634, 0.6142,  ..., 0.9227, 0.1099, 0.7724],\n",
       "          [0.2319, 0.4265, 0.0092,  ..., 0.5418, 0.6899, 0.5243],\n",
       "          [0.5847, 0.5519, 0.4082,  ..., 0.9698, 0.2468, 0.4931]]]])"
      ]
     },
     "execution_count": 2,
     "metadata": {},
     "output_type": "execute_result"
    }
   ],
   "source": [
    "import torch\n",
    "a = torch.rand(4,3,28,28)\n",
    "a"
   ]
  },
  {
   "cell_type": "code",
   "execution_count": 3,
   "metadata": {},
   "outputs": [
    {
     "data": {
      "text/plain": [
       "torch.Size([3, 28, 28])"
      ]
     },
     "execution_count": 3,
     "metadata": {},
     "output_type": "execute_result"
    }
   ],
   "source": [
    "a[0].shape"
   ]
  },
  {
   "cell_type": "code",
   "execution_count": 4,
   "metadata": {},
   "outputs": [
    {
     "data": {
      "text/plain": [
       "torch.Size([28, 28])"
      ]
     },
     "execution_count": 4,
     "metadata": {},
     "output_type": "execute_result"
    }
   ],
   "source": [
    "a[0,0].shape"
   ]
  },
  {
   "cell_type": "code",
   "execution_count": 5,
   "metadata": {},
   "outputs": [
    {
     "data": {
      "text/plain": [
       "tensor(0.9212)"
      ]
     },
     "execution_count": 5,
     "metadata": {},
     "output_type": "execute_result"
    }
   ],
   "source": [
    "a[0,0,2,4] # 此代码等价于a[0][0][2][4]\n"
   ]
  },
  {
   "cell_type": "code",
   "execution_count": 10,
   "metadata": {},
   "outputs": [
    {
     "data": {
      "text/plain": [
       "tensor(0.9212)"
      ]
     },
     "execution_count": 10,
     "metadata": {},
     "output_type": "execute_result"
    }
   ],
   "source": [
    "a[0][0][2][4]"
   ]
  },
  {
   "cell_type": "markdown",
   "metadata": {},
   "source": [
    "select first/last N"
   ]
  },
  {
   "cell_type": "code",
   "execution_count": 7,
   "metadata": {},
   "outputs": [
    {
     "data": {
      "text/plain": [
       "torch.Size([4, 3, 28, 28])"
      ]
     },
     "execution_count": 7,
     "metadata": {},
     "output_type": "execute_result"
    }
   ],
   "source": [
    "a.shape"
   ]
  },
  {
   "cell_type": "code",
   "execution_count": 8,
   "metadata": {},
   "outputs": [
    {
     "data": {
      "text/plain": [
       "torch.Size([2, 3, 28, 28])"
      ]
     },
     "execution_count": 8,
     "metadata": {},
     "output_type": "execute_result"
    }
   ],
   "source": [
    "a[:2].shape"
   ]
  },
  {
   "cell_type": "code",
   "execution_count": 9,
   "metadata": {},
   "outputs": [
    {
     "data": {
      "text/plain": [
       "torch.Size([2, 1, 28, 28])"
      ]
     },
     "execution_count": 9,
     "metadata": {},
     "output_type": "execute_result"
    }
   ],
   "source": [
    "a[:2,:1,:,:].shape"
   ]
  },
  {
   "cell_type": "code",
   "execution_count": 11,
   "metadata": {},
   "outputs": [
    {
     "data": {
      "text/plain": [
       "torch.Size([2, 2, 28, 28])"
      ]
     },
     "execution_count": 11,
     "metadata": {},
     "output_type": "execute_result"
    }
   ],
   "source": [
    "a[:2,1:,:,:].shape"
   ]
  },
  {
   "cell_type": "code",
   "execution_count": 12,
   "metadata": {},
   "outputs": [
    {
     "data": {
      "text/plain": [
       "torch.Size([2, 1, 28, 28])"
      ]
     },
     "execution_count": 12,
     "metadata": {},
     "output_type": "execute_result"
    }
   ],
   "source": [
    "a[:2,-1:,:,:].shape"
   ]
  },
  {
   "cell_type": "markdown",
   "metadata": {},
   "source": [
    "select by steps"
   ]
  },
  {
   "cell_type": "code",
   "execution_count": 13,
   "metadata": {},
   "outputs": [
    {
     "data": {
      "text/plain": [
       "torch.Size([4, 3, 14, 28])"
      ]
     },
     "execution_count": 13,
     "metadata": {},
     "output_type": "execute_result"
    }
   ],
   "source": [
    "a[:,:,0:28:2,:].shape"
   ]
  },
  {
   "cell_type": "code",
   "execution_count": 14,
   "metadata": {},
   "outputs": [
    {
     "data": {
      "text/plain": [
       "torch.Size([4, 3, 14, 14])"
      ]
     },
     "execution_count": 14,
     "metadata": {},
     "output_type": "execute_result"
    }
   ],
   "source": [
    "a[:,:,::2,::2].shape"
   ]
  },
  {
   "cell_type": "markdown",
   "metadata": {},
   "source": [
    "select by specific index"
   ]
  },
  {
   "cell_type": "code",
   "execution_count": 15,
   "metadata": {},
   "outputs": [
    {
     "data": {
      "text/plain": [
       "torch.Size([4, 3, 28, 28])"
      ]
     },
     "execution_count": 15,
     "metadata": {},
     "output_type": "execute_result"
    }
   ],
   "source": [
    "a.shape"
   ]
  },
  {
   "cell_type": "code",
   "execution_count": 19,
   "metadata": {},
   "outputs": [
    {
     "data": {
      "text/plain": [
       "torch.Size([4, 2, 28, 28])"
      ]
     },
     "execution_count": 19,
     "metadata": {},
     "output_type": "execute_result"
    }
   ],
   "source": [
    "# index_select函数\n",
    "\n",
    "a = torch.rand(4,3,28,28)\n",
    "a\n",
    "a.shape\n",
    "torch.index_select(a,0,torch.tensor([0,2])).shape\n",
    "torch.index_select(a,1,torch.tensor([0,2])).shape\n"
   ]
  },
  {
   "cell_type": "code",
   "execution_count": 20,
   "metadata": {},
   "outputs": [
    {
     "data": {
      "text/plain": [
       "torch.Size([4, 3, 28, 28])"
      ]
     },
     "execution_count": 20,
     "metadata": {},
     "output_type": "execute_result"
    }
   ],
   "source": [
    "a.index_select(2,torch.arange(28)).shape"
   ]
  },
  {
   "cell_type": "code",
   "execution_count": 21,
   "metadata": {},
   "outputs": [
    {
     "data": {
      "text/plain": [
       "torch.Size([4, 3, 8, 28])"
      ]
     },
     "execution_count": 21,
     "metadata": {},
     "output_type": "execute_result"
    }
   ],
   "source": [
    "a.index_select(2,torch.arange(8)).shape"
   ]
  },
  {
   "cell_type": "code",
   "execution_count": 22,
   "metadata": {},
   "outputs": [
    {
     "data": {
      "text/plain": [
       "torch.Size([4, 3, 28, 28])"
      ]
     },
     "execution_count": 22,
     "metadata": {},
     "output_type": "execute_result"
    }
   ],
   "source": [
    "a.shape"
   ]
  },
  {
   "cell_type": "code",
   "execution_count": 23,
   "metadata": {},
   "outputs": [
    {
     "data": {
      "text/plain": [
       "torch.Size([4, 3, 28, 28])"
      ]
     },
     "execution_count": 23,
     "metadata": {},
     "output_type": "execute_result"
    }
   ],
   "source": [
    "a[...].shape"
   ]
  },
  {
   "cell_type": "code",
   "execution_count": 24,
   "metadata": {},
   "outputs": [
    {
     "data": {
      "text/plain": [
       "torch.Size([3, 28, 28])"
      ]
     },
     "execution_count": 24,
     "metadata": {},
     "output_type": "execute_result"
    }
   ],
   "source": [
    "a[0,...].shape"
   ]
  },
  {
   "cell_type": "code",
   "execution_count": 25,
   "metadata": {},
   "outputs": [
    {
     "data": {
      "text/plain": [
       "torch.Size([4, 28, 28])"
      ]
     },
     "execution_count": 25,
     "metadata": {},
     "output_type": "execute_result"
    }
   ],
   "source": [
    "a[:,1,...].shape"
   ]
  },
  {
   "cell_type": "code",
   "execution_count": 26,
   "metadata": {},
   "outputs": [
    {
     "data": {
      "text/plain": [
       "torch.Size([4, 3, 28, 2])"
      ]
     },
     "execution_count": 26,
     "metadata": {},
     "output_type": "execute_result"
    }
   ],
   "source": [
    "a[...,:2].shape"
   ]
  },
  {
   "cell_type": "markdown",
   "metadata": {},
   "source": [
    "select by mask"
   ]
  },
  {
   "cell_type": "code",
   "execution_count": 32,
   "metadata": {},
   "outputs": [
    {
     "data": {
      "text/plain": [
       "tensor([[ 2.0016,  0.8680,  0.3676,  0.1874],\n",
       "        [-1.0185,  0.8151,  0.6021, -0.2684],\n",
       "        [ 0.4205,  0.1501,  0.2220, -1.5253]])"
      ]
     },
     "execution_count": 32,
     "metadata": {},
     "output_type": "execute_result"
    }
   ],
   "source": [
    "# mask_select函数\n",
    "# mask_select函数的作用是根据掩码的真值来选择元素\n",
    "x = torch.randn(3,4)\n",
    "x"
   ]
  },
  {
   "cell_type": "code",
   "execution_count": 33,
   "metadata": {},
   "outputs": [
    {
     "data": {
      "text/plain": [
       "tensor([[ True,  True, False, False],\n",
       "        [False,  True,  True, False],\n",
       "        [False, False, False, False]])"
      ]
     },
     "execution_count": 33,
     "metadata": {},
     "output_type": "execute_result"
    }
   ],
   "source": [
    "mask = x.ge(0.5)\n",
    "mask"
   ]
  },
  {
   "cell_type": "code",
   "execution_count": 34,
   "metadata": {},
   "outputs": [
    {
     "data": {
      "text/plain": [
       "tensor([2.0016, 0.8680, 0.8151, 0.6021])"
      ]
     },
     "execution_count": 34,
     "metadata": {},
     "output_type": "execute_result"
    }
   ],
   "source": [
    "torch.masked_select(x,mask)"
   ]
  },
  {
   "cell_type": "code",
   "execution_count": 35,
   "metadata": {},
   "outputs": [
    {
     "data": {
      "text/plain": [
       "torch.Size([4])"
      ]
     },
     "execution_count": 35,
     "metadata": {},
     "output_type": "execute_result"
    }
   ],
   "source": [
    "torch.masked_select(x,mask).shape\n"
   ]
  },
  {
   "cell_type": "markdown",
   "metadata": {},
   "source": [
    "select by flatten index"
   ]
  },
  {
   "cell_type": "code",
   "execution_count": 36,
   "metadata": {},
   "outputs": [],
   "source": [
    "src = torch.tensor([[4,3,5],[6,7,8]])"
   ]
  },
  {
   "cell_type": "code",
   "execution_count": 37,
   "metadata": {},
   "outputs": [
    {
     "data": {
      "text/plain": [
       "tensor([4, 5, 8])"
      ]
     },
     "execution_count": 37,
     "metadata": {},
     "output_type": "execute_result"
    }
   ],
   "source": [
    "torch.take(src,torch.tensor([0,2,5]))"
   ]
  }
 ],
 "metadata": {
  "kernelspec": {
   "display_name": "pycell",
   "language": "python",
   "name": "python3"
  },
  "language_info": {
   "codemirror_mode": {
    "name": "ipython",
    "version": 3
   },
   "file_extension": ".py",
   "mimetype": "text/x-python",
   "name": "python",
   "nbconvert_exporter": "python",
   "pygments_lexer": "ipython3",
   "version": "3.11.5"
  }
 },
 "nbformat": 4,
 "nbformat_minor": 2
}
